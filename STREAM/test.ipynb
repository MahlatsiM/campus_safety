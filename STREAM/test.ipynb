{
 "cells": [
  {
   "cell_type": "code",
   "execution_count": null,
   "id": "3be5bd42",
   "metadata": {},
   "outputs": [],
   "source": [
    "import postgis"
   ]
  },
  {
   "cell_type": "code",
   "execution_count": null,
   "id": "6e249172",
   "metadata": {},
   "outputs": [],
   "source": []
  }
 ],
 "metadata": {
  "kernelspec": {
   "display_name": "Python 3",
   "language": "python",
   "name": "python3"
  },
  "language_info": {
   "name": "python",
   "version": "3.10.10"
  }
 },
 "nbformat": 4,
 "nbformat_minor": 5
}
